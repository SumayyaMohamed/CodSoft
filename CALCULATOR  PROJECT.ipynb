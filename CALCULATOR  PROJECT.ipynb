{
 "cells": [
  {
   "cell_type": "markdown",
   "id": "b5c49f1d",
   "metadata": {},
   "source": [
    "### TASK-2:\n",
    "#### Design a simple calculator with basic arithmetic operations.Prompt the user to input two numbers and an operation choice. Perform the calculation and display the result."
   ]
  },
  {
   "cell_type": "markdown",
   "id": "3ac89d08",
   "metadata": {},
   "source": [
    "#### CALCULATOR"
   ]
  },
  {
   "cell_type": "code",
   "execution_count": null,
   "id": "3bd9193d",
   "metadata": {},
   "outputs": [],
   "source": []
  },
  {
   "cell_type": "markdown",
   "id": "2522cef8",
   "metadata": {},
   "source": [
    "### 1.Procedural implementation"
   ]
  },
  {
   "cell_type": "code",
   "execution_count": 2,
   "id": "6ec04a30",
   "metadata": {},
   "outputs": [
    {
     "name": "stdout",
     "output_type": "stream",
     "text": [
      "Enter two numbers separated by camma:1,2\n",
      "You have entered two values: ['1', '2']\n",
      "1.ADD TWO NUMBERS\n",
      "2.SUBTRACT TWO NUMBERS\n",
      "3.MULTIPLY TWO NUMBERS\n",
      "4.DIVIDE TWO NUMBERS\n",
      "Enter the operation to implement:-1\n",
      "Enter valid number\n",
      "1.ADD TWO NUMBERS\n",
      "2.SUBTRACT TWO NUMBERS\n",
      "3.MULTIPLY TWO NUMBERS\n",
      "4.DIVIDE TWO NUMBERS\n",
      "Enter the operation to implement:5\n"
     ]
    }
   ],
   "source": [
    "while True:\n",
    "\n",
    "    nums=input(\"Enter two numbers separated by camma:\").split(\",\")\n",
    "    \n",
    "    if len(nums)==2:\n",
    "        print(\"You have entered two values:\" ,nums)\n",
    "        nums=[int(num) for num in nums]\n",
    "        break;\n",
    "        \n",
    "    else:\n",
    "        print(\"Please enter exactly two numbers\")\n",
    "\n",
    "\n",
    "while True:\n",
    "    \n",
    "    print(\"1.ADD TWO NUMBERS\")\n",
    "    print(\"2.SUBTRACT TWO NUMBERS\")\n",
    "    print(\"3.MULTIPLY TWO NUMBERS\")\n",
    "    print(\"4.DIVIDE TWO NUMBERS\")\n",
    "    \n",
    "    choice=input(\"Enter the operation to implement:\")\n",
    "    \n",
    "    \n",
    "    if choice==\"1\":\n",
    "        sum_of_nums=sum(nums)\n",
    "        print(sum_of_nums)\n",
    "        \n",
    "    elif choice==\"2\":\n",
    "            result=nums[0]-nums[1]\n",
    "            print(result)\n",
    "            \n",
    "    elif choice==\"3\":\n",
    "            result=nums[0]*nums[1]\n",
    "            print(result)\n",
    "\n",
    "    elif choice==\"4\":\n",
    "        result=nums[0]/nums[1]\n",
    "        print(result)\n",
    "        \n",
    "    elif choice>=\"5\":\n",
    "        break;\n",
    "        \n",
    "    else:\n",
    "       print(\"Please Enter valid number\")"
   ]
  },
  {
   "cell_type": "code",
   "execution_count": null,
   "id": "7cb3f14f",
   "metadata": {},
   "outputs": [],
   "source": []
  },
  {
   "cell_type": "markdown",
   "id": "3a173329",
   "metadata": {},
   "source": [
    "###  OOP IMPLEMENTATION"
   ]
  },
  {
   "cell_type": "code",
   "execution_count": 16,
   "id": "7beb5dd2",
   "metadata": {},
   "outputs": [
    {
     "name": "stdout",
     "output_type": "stream",
     "text": [
      "Enter two numbers separated by camma:1,2,3\n",
      "Please enter exactly two numbers\n",
      "Enter two numbers separated by camma:1,2\n",
      "You have entered two values: ['1', '2']\n",
      "1.ADD TWO NUMBERS\n",
      "2.SUBTRACT TWO NUMBERS\n",
      "3.MULTIPLY TWO NUMBERS\n",
      "4.DIVIDE TWO NUMBERS\n",
      "Enter the operation to implement:1\n",
      "3\n",
      "1.ADD TWO NUMBERS\n",
      "2.SUBTRACT TWO NUMBERS\n",
      "3.MULTIPLY TWO NUMBERS\n",
      "4.DIVIDE TWO NUMBERS\n",
      "Enter the operation to implement:3\n",
      "2\n",
      "1.ADD TWO NUMBERS\n",
      "2.SUBTRACT TWO NUMBERS\n",
      "3.MULTIPLY TWO NUMBERS\n",
      "4.DIVIDE TWO NUMBERS\n",
      "Enter the operation to implement:4\n",
      "0.5\n",
      "1.ADD TWO NUMBERS\n",
      "2.SUBTRACT TWO NUMBERS\n",
      "3.MULTIPLY TWO NUMBERS\n",
      "4.DIVIDE TWO NUMBERS\n",
      "Enter the operation to implement:2\n",
      "-1\n",
      "1.ADD TWO NUMBERS\n",
      "2.SUBTRACT TWO NUMBERS\n",
      "3.MULTIPLY TWO NUMBERS\n",
      "4.DIVIDE TWO NUMBERS\n",
      "Enter the operation to implement:5\n"
     ]
    }
   ],
   "source": [
    "class Calculator:\n",
    "    def __init__(self):\n",
    "        self.nums=[]\n",
    "        \n",
    "    def enter_nums(self,nums):\n",
    "        self.nums.extend(nums)\n",
    "        \n",
    "    def add_nums(self):\n",
    "        sum_of_nums=sum(self.nums)\n",
    "        print(sum_of_nums)\n",
    "        \n",
    "    def sub_nums(self):\n",
    "        result=self.nums[0]-self.nums[1]\n",
    "        print(result)\n",
    "        \n",
    "    def mul_nums(self):\n",
    "        result = self.nums[0]*self.nums[1]\n",
    "        print(result)\n",
    "        \n",
    "    def div_nums(self):\n",
    "        result=self.nums[0]/self.nums[1]\n",
    "        print(result)\n",
    "        \n",
    "cal=Calculator()\n",
    "\n",
    "while True:\n",
    "\n",
    "    nums=input(\"Enter two numbers separated by camma:\").split(\",\")\n",
    " \n",
    "    \n",
    "    if len(nums)==2:\n",
    "        print(\"You have entered two values:\" ,nums)\n",
    "        nums=[int(num) for num in nums]\n",
    "        cal.enter_nums(nums)\n",
    "        break;\n",
    "        \n",
    "    else:\n",
    "        print(\"Please enter exactly two numbers\")\n",
    "\n",
    "\n",
    "while True:\n",
    "    \n",
    "    print(\"1.ADD TWO NUMBERS\")\n",
    "    print(\"2.SUBTRACT TWO NUMBERS\")\n",
    "    print(\"3.MULTIPLY TWO NUMBERS\")\n",
    "    print(\"4.DIVIDE TWO NUMBERS\")\n",
    "    \n",
    "    choice=input(\"Enter the operation to implement:\")\n",
    "    \n",
    "    \n",
    "    if choice==\"1\":\n",
    "        cal.add_nums()\n",
    "        \n",
    "    elif choice==\"2\":\n",
    "        cal.sub_nums()\n",
    "            \n",
    "    elif choice==\"3\":\n",
    "        cal.mul_nums()\n",
    "\n",
    "    elif choice==\"4\":\n",
    "        cal.div_nums()\n",
    "        \n",
    "    elif choice==\"5\":\n",
    "        break\n",
    "\n",
    "    else:\n",
    "       print(\"Please Enter valid number\")"
   ]
  },
  {
   "cell_type": "code",
   "execution_count": null,
   "id": "51320d8a",
   "metadata": {},
   "outputs": [],
   "source": []
  }
 ],
 "metadata": {
  "kernelspec": {
   "display_name": "Python 3 (ipykernel)",
   "language": "python",
   "name": "python3"
  },
  "language_info": {
   "codemirror_mode": {
    "name": "ipython",
    "version": 3
   },
   "file_extension": ".py",
   "mimetype": "text/x-python",
   "name": "python",
   "nbconvert_exporter": "python",
   "pygments_lexer": "ipython3",
   "version": "3.9.13"
  }
 },
 "nbformat": 4,
 "nbformat_minor": 5
}
