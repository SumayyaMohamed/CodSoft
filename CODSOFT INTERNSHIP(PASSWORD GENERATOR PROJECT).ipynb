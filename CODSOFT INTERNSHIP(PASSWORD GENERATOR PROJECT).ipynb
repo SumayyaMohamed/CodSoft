{
 "cells": [
  {
   "cell_type": "markdown",
   "id": "171127b5",
   "metadata": {},
   "source": [
    "## TASK-3  PASSWORD GENERATOR"
   ]
  },
  {
   "cell_type": "markdown",
   "id": "31b999b0",
   "metadata": {},
   "source": [
    "##### A password generator is a useful tool that generates strong and random passwords for users. This project aims to create a password generator application using Python, allowing users to specify the length and complexity of the password.\n",
    "\n",
    "#### User Input: Prompt the user to specify the desired length of the password.\n",
    "\n",
    "##### Generate Password: Use a combination of random characters to generate a password of the specified length.\n",
    "\n",
    "##### Display the Password: Print the generated password on the screen."
   ]
  },
  {
   "cell_type": "code",
   "execution_count": null,
   "id": "1317b66c",
   "metadata": {},
   "outputs": [],
   "source": []
  },
  {
   "cell_type": "markdown",
   "id": "3aba7823",
   "metadata": {},
   "source": [
    "Implemented a Password Generator project using Python, showcasing versatility in two distinct approaches. First, I leveraged the power of Python's built-in functions to create a robust and efficient password generator. Then, I took it a step further by integrating a sleek graphical user interface using Tkinter, allowing users to interactively generate secure passwords with just a click. It's a blend of functionality and user-friendliness, demonstrating my proficiency in both core Python programming and GUI development with Tkinter."
   ]
  },
  {
   "cell_type": "markdown",
   "id": "eb7baa6e",
   "metadata": {},
   "source": [
    "**1. Python Function Approach:**\n"
   ]
  },
  {
   "cell_type": "code",
   "execution_count": 46,
   "id": "ab58d77d",
   "metadata": {},
   "outputs": [
    {
     "name": "stdout",
     "output_type": "stream",
     "text": [
      "Enter your name:Sumaya Mohammed\n",
      "Enter the no. of characters for password:12\n",
      "Random password: @mZ]'\"C4Q=GG\n"
     ]
    }
   ],
   "source": [
    "name=str(input(\"Enter your name:\"))\n",
    "char=int(input(\"Enter the no. of characters for password:\"))\n",
    "import random\n",
    "import string\n",
    "\n",
    "\n",
    "def generate_random_password(length):\n",
    "    all_chars=random.choices(string.ascii_letters+string.digits+string.punctuation,k=length)\n",
    "    result = ''.join(all_chars)\n",
    "    return result\n",
    "\n",
    "random_password=generate_random_password(char)\n",
    "print(\"Random password:\" ,random_password)"
   ]
  },
  {
   "cell_type": "code",
   "execution_count": null,
   "id": "2fce6e97",
   "metadata": {},
   "outputs": [],
   "source": []
  },
  {
   "cell_type": "code",
   "execution_count": null,
   "id": "ab043321",
   "metadata": {},
   "outputs": [],
   "source": []
  },
  {
   "cell_type": "markdown",
   "id": "d9ce4320",
   "metadata": {},
   "source": [
    "**2. Tkinter GUI Implementation:**"
   ]
  },
  {
   "cell_type": "code",
   "execution_count": 47,
   "id": "44c99d0b",
   "metadata": {},
   "outputs": [],
   "source": [
    "import tkinter as tk\n",
    "from tkinter import *\n",
    "from tkinter import messagebox"
   ]
  },
  {
   "cell_type": "code",
   "execution_count": 104,
   "id": "1ea3c088",
   "metadata": {},
   "outputs": [],
   "source": [
    "import tkinter as tk\n",
    "import random\n",
    "import string\n",
    "\n",
    "def generate_password():\n",
    "    try:\n",
    "        length = int(length_entry.get())\n",
    "        password_var.set(''.join(random.choices(string.ascii_letters + string.digits + string.punctuation, k=length)))\n",
    "    except ValueError:\n",
    "        password_var.set(\"Invalid length\")\n",
    "\n",
    "\n",
    "# Create the main window\n",
    "root = tk.Tk()\n",
    "root.title(\"PASSWORD GENERATOR\")\n",
    "root.geometry(\"500x500\")\n",
    "root.resizable(False, False)\n",
    "root.config(bg=\"#000000\")\n",
    "\n",
    "# Title\n",
    "title = tk.Label(root, text=\"PASSWORD GENERATOR\", font=(\"Arial\", 20), bg='#FFA500', fg='#000000')\n",
    "title.pack(pady=20)\n",
    "\n",
    "# User name entry\n",
    "name_label = tk.Label(root, text=\"Enter user name:\", font=(\"Arial\", 12), fg='white', bg='#000000')\n",
    "name_label.place(x=50, y=100)\n",
    "name_entry = tk.Entry(root, width=25, font=(\"Arial\", 12))\n",
    "name_entry.place(x=225, y=100)\n",
    "\n",
    "\n",
    "# Password length entry\n",
    "length_label = tk.Label(root, text=\"Enter password length:\", font=(\"Arial\", 12), fg='white', bg='#000000')\n",
    "length_label.place(x=50, y=150)\n",
    "length_entry = tk.Entry(root, width=25, font=(\"Arial\", 12))\n",
    "length_entry.place(x=225, y=150)\n",
    "\n",
    "\n",
    "# Generated password display\n",
    "password_label = tk.Label(root, text=\"Generated password:\", font=(\"Arial\", 12), fg='white', bg='#000000')\n",
    "password_label.place(x=50, y=200)\n",
    "password_var = tk.StringVar()\n",
    "password_entry = tk.Entry(root, width=25, textvariable=password_var, font=(\"Arial\", 12),state=\"readonly\")\n",
    "password_entry.place(x=225, y=200)\n",
    "\n",
    "\n",
    "# Button to generate password\n",
    "Button(root, text=\"Generate Password\", command=generate_password).place(x=150, y=280)\n",
    "\n",
    "root.mainloop()"
   ]
  },
  {
   "cell_type": "code",
   "execution_count": null,
   "id": "338c45ac",
   "metadata": {},
   "outputs": [],
   "source": []
  },
  {
   "cell_type": "code",
   "execution_count": null,
   "id": "b53c71f2",
   "metadata": {},
   "outputs": [],
   "source": []
  }
 ],
 "metadata": {
  "kernelspec": {
   "display_name": "Python 3 (ipykernel)",
   "language": "python",
   "name": "python3"
  },
  "language_info": {
   "codemirror_mode": {
    "name": "ipython",
    "version": 3
   },
   "file_extension": ".py",
   "mimetype": "text/x-python",
   "name": "python",
   "nbconvert_exporter": "python",
   "pygments_lexer": "ipython3",
   "version": "3.9.13"
  }
 },
 "nbformat": 4,
 "nbformat_minor": 5
}
